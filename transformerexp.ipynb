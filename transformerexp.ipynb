{
  "nbformat": 4,
  "nbformat_minor": 0,
  "metadata": {
    "colab": {
      "name": "transformerexp.ipynb",
      "provenance": [],
      "collapsed_sections": []
    },
    "kernelspec": {
      "name": "python3",
      "display_name": "Python 3"
    },
    "language_info": {
      "name": "python"
    },
    "accelerator": "GPU"
  },
  "cells": [
    {
      "cell_type": "code",
      "metadata": {
        "id": "fgaO4MCL6V3v"
      },
      "source": [
        "import numpy as np\n",
        "import torch\n",
        "import torch.nn as nn\n",
        "import torch.nn.functional as F\n",
        "import math, copy, time\n",
        "from torch.autograd import Variable\n",
        "import matplotlib.pyplot as plt\n",
        "import seaborn\n",
        "import spacy\n",
        "seaborn.set_context(context=\"talk\")\n",
        "##%matplotlib inline"
      ],
      "execution_count": 1,
      "outputs": []
    },
    {
      "cell_type": "code",
      "metadata": {
        "colab": {
          "base_uri": "https://localhost:8080/"
        },
        "id": "SQHqdGxv6piO",
        "outputId": "0a853c17-364b-4877-bdb1-4bb210927bed"
      },
      "source": [
        "d_model = 512\n",
        "text = \"I am a student\"\n",
        "spacy_en = spacy.load('en_core_web_sm') # using full name 'en' -> 'en_core_web_sm'\n",
        "dropout = 0.1\n",
        "\n",
        "def tokenize(text):\n",
        "    return [tok.text for tok in spacy_en.tokenizer(text)]\n",
        "\n",
        "vocab = tokenize(text)\n",
        "vocab_len = len(vocab)\n",
        "print(vocab, len(vocab))"
      ],
      "execution_count": 12,
      "outputs": [
        {
          "output_type": "stream",
          "name": "stdout",
          "text": [
            "['I', 'am', 'a', 'student'] 4\n"
          ]
        }
      ]
    },
    {
      "cell_type": "markdown",
      "metadata": {
        "id": "eIhbhvyPLkk6"
      },
      "source": [
        "# Word embedding test"
      ]
    },
    {
      "cell_type": "code",
      "metadata": {
        "id": "VvNUpF2v6sQF"
      },
      "source": [
        "class Embeddings(nn.Module) :\n",
        "    def __init__(self, d_model, vocab):\n",
        "        super(Embeddings, self).__init__()\n",
        "        self.lut = nn.Embedding(vocab, d_model)  # (seq_len, d_model) embedding\n",
        "        self.d_model = d_model\n",
        "\n",
        "    def forward(self, x):\n",
        "        return self.lut(x) * math.sqrt(self.d_model) # multiply sqrt(d_model) to embeded result\n"
      ],
      "execution_count": 33,
      "outputs": []
    },
    {
      "cell_type": "code",
      "metadata": {
        "colab": {
          "base_uri": "https://localhost:8080/"
        },
        "id": "kFUNr9Mf6wZ-",
        "outputId": "99becbf8-1e6f-409c-a422-18a4dbc9c03e"
      },
      "source": [
        "x = nn.Embedding(len(vocab), d_model)\n",
        "print(x.weight)"
      ],
      "execution_count": 10,
      "outputs": [
        {
          "output_type": "stream",
          "name": "stdout",
          "text": [
            "Parameter containing:\n",
            "tensor([[-0.7106, -0.0689, -1.7233,  ...,  1.4656,  2.1511, -0.9666],\n",
            "        [ 0.3782, -0.3543,  0.4409,  ...,  0.7042, -2.0406,  0.4756],\n",
            "        [ 0.2220,  0.6813, -0.3650,  ...,  0.7365,  0.8258,  0.4368],\n",
            "        [ 0.6868,  0.2312,  0.3905,  ...,  0.2847, -0.8460, -0.0298]],\n",
            "       requires_grad=True)\n"
          ]
        }
      ]
    },
    {
      "cell_type": "code",
      "metadata": {
        "colab": {
          "base_uri": "https://localhost:8080/"
        },
        "id": "-soQ2uXnI6kI",
        "outputId": "e8723254-d30e-4d43-dbf6-56c1a4eece7e"
      },
      "source": [
        "def forward(d_model, vocab_len):\n",
        "    lut = nn.Embedding(vocab_len, d_model)\n",
        "    return lut\n",
        "\n",
        "test = forward(d_model, vocab_len)\n",
        "print(test.weight)   "
      ],
      "execution_count": 34,
      "outputs": [
        {
          "output_type": "stream",
          "name": "stdout",
          "text": [
            "Parameter containing:\n",
            "tensor([[ 1.2619,  0.7283,  1.0871,  ..., -1.3237,  0.9367, -1.6852],\n",
            "        [-0.1218,  0.3964, -0.1541,  ...,  0.0840,  0.9575,  0.2434],\n",
            "        [-0.2510, -0.6762,  0.1702,  ...,  0.0942,  0.5852,  0.9113],\n",
            "        [-0.9429,  2.6556,  0.3092,  ...,  0.8093, -0.3008,  0.2409]],\n",
            "       requires_grad=True)\n"
          ]
        }
      ]
    },
    {
      "cell_type": "code",
      "metadata": {
        "colab": {
          "base_uri": "https://localhost:8080/"
        },
        "id": "9atWK4DJRsEh",
        "outputId": "4b416379-ee7f-495b-cb5b-e3e5ebd88c4f"
      },
      "source": [
        "tmp = Embeddings(d_model, vocab_len)\n",
        "tmp"
      ],
      "execution_count": 36,
      "outputs": [
        {
          "output_type": "execute_result",
          "data": {
            "text/plain": [
              "Embeddings(\n",
              "  (lut): Embedding(4, 512)\n",
              ")"
            ]
          },
          "metadata": {},
          "execution_count": 36
        }
      ]
    }
  ]
}